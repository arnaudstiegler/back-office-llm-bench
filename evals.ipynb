{
 "cells": [
  {
   "cell_type": "code",
   "execution_count": null,
   "id": "b0615141-fa6e-47d3-bda5-defac713f1ff",
   "metadata": {},
   "outputs": [],
   "source": [
    "import json\n",
    "import re\n",
    "from dataset import OpenMathDataset\n",
    "\n",
    "def find_and_parse_json(s):\n",
    "    # Attempt to find a JSON-like substring within the input string\n",
    "    # This pattern is a simplified approach and might not cover all edge cases\n",
    "    pattern = r\"\\{.*?\\}\"\n",
    "    matches = re.findall(pattern, s, re.DOTALL)\n",
    "\n",
    "    for match in matches:\n",
    "        # Attempt to correct common deviations from the JSON standard:\n",
    "        # Convert single quotes to double quotes (this might introduce errors if single quotes are used within strings)\n",
    "        corrected_match = match.replace(\"'\", '\"')\n",
    "        \n",
    "        # Attempt to parse the corrected string as JSON\n",
    "        try:\n",
    "            parsed_json = json.loads(corrected_match)\n",
    "            return parsed_json\n",
    "        except json.JSONDecodeError:\n",
    "            continue  # If parsing fails, continue to the next match\n",
    "    \n",
    "    # If no valid JSON object was found and successfully parsed, return None\n",
    "    return None\n",
    "\n",
    "not_json_mode_path = '/Users/arnaudstiegler/back-office-llm-bench/predictions_not_json_mode.json'\n",
    "json_mode_path = '/Users/arnaudstiegler/back-office-llm-bench/predictions_json_mode.json'\n",
    "\n",
    "\n",
    "preds = json.load(open(json_mode_path))\n",
    "dataset = OpenMathDataset(json_mode=False)\n",
    "contains_json = []\n",
    "correct_json = []\n",
    "correct_answer = []\n",
    "for i in range(len(preds)):\n",
    "    answer = preds[i]['choices'][0]['message']['content']\n",
    "    sample = dataset[i+1]\n",
    "\n",
    "    json_dict = find_and_parse_json(answer)\n",
    "\n",
    "    if not json_dict:\n",
    "        contains_json.append(0)\n",
    "        print(answer)\n",
    "        print('======')\n",
    "    else:\n",
    "        contains_json.append(1)\n",
    "\n",
    "        if not set(json_dict.keys()) == {'answer'}:\n",
    "            correct_json.append(0)\n",
    "        else:\n",
    "            correct_json.append(1)\n",
    "\n",
    "            if str(json_dict['answer']) == str(sample.answer):\n",
    "                correct_answer.append(1)\n",
    "            else:\n",
    "                correct_answer.append(0)"
   ]
  },
  {
   "cell_type": "code",
   "execution_count": 15,
   "id": "aa4401f0-166e-403c-8182-442186604fa5",
   "metadata": {},
   "outputs": [
    {
     "name": "stdout",
     "output_type": "stream",
     "text": [
      "0.35276532137518685\n",
      "1.0\n",
      "0.3474576271186441\n"
     ]
    }
   ],
   "source": [
    "print(sum(contains_json) / len(contains_json))\n",
    "print(sum(correct_json) / len(correct_json))\n",
    "print(sum(correct_answer) / len(correct_answer))"
   ]
  },
  {
   "cell_type": "code",
   "execution_count": 3,
   "id": "f8d7921f-4e3f-4812-8a32-312629f9f1a3",
   "metadata": {},
   "outputs": [
    {
     "data": {
      "text/plain": [
       "'71'"
      ]
     },
     "execution_count": 3,
     "metadata": {},
     "output_type": "execute_result"
    }
   ],
   "source": [
    "# answer=\"{'effective_date': '2001-04-18', 'jurisdiction': 'Oregon', 'party': ['Eric_Dean_Sprunk', 'Nike_Inc.']}\"\n",
    "\n",
    "prompt = '''\n",
    "The text above is the transcription of an NDA. \n",
    "\n",
    "# Extraction:\n",
    "There are up to 6 attributes to be extracted from the transcription:\n",
    "\n",
    "effective_date - date in YYYY-MM-DD format, at which point the contract is legally binding,\n",
    "jurisdiction - under which state or country jurisdiction is the contract signed,\n",
    "party - party or parties of the contract,\n",
    "term - length of the legal contract as expressed in the document.\n",
    "Note that party usually occur more than once.\n",
    "\n",
    "# Normalization:\n",
    "The expected pieces of information were normalized to some degree:\n",
    "\n",
    "in attribute values, all spaces   and colons : were replaced with an underscores _,\n",
    "all expected dates should be returned in YYYY-MM-DD format,\n",
    "values for attribute term are normalized with the same original units e.g. eleven months is changed to 11_months; all of them are in the same format: {number}_{units}.\n",
    "\n",
    "# Output Format:\n",
    "The output has to be a valid json with the following format:\n",
    "{\"effective_date\": \"value\", \"jurisdiction\":\"value\", \"party\":[\"value_1\", \"value_2\", ...], \"term\":\"value\"}\n",
    "\n",
    "So for instance:\n",
    "\"{'effective_date': '2020-01-12', 'jurisdiction': 'Utah', 'party': ['Bill_Gates', 'Coca_Cola_Inc.']}\"\n",
    "\n",
    "You can reason and explain your choices before returning the JSON object, you just have to have that json object in the output\n",
    "'''"
   ]
  },
  {
   "cell_type": "code",
   "execution_count": 17,
   "id": "3a0606a0-2ccd-4769-99dd-0a762217c6c0",
   "metadata": {},
   "outputs": [],
   "source": [
    "from dataset import KleisterNdaDataset\n",
    "\n",
    "data = KleisterNdaDataset(json_mode=False)"
   ]
  },
  {
   "cell_type": "code",
   "execution_count": 20,
   "id": "9b2ed28b-e7a1-463d-9840-bdf3ec2c83d2",
   "metadata": {},
   "outputs": [
    {
     "data": {
      "text/plain": [
       "Sample(id=1, task_definition='', task_input='EX-99.(E)(2) 3 d450961dex99e2.htm EX-(E)(2)\\\\nExhibit (e)(2)\\\\nLOGO\\\\nConfidential\\\\nMUTUAL CONFIDENTIALITY AGREEMENT\\\\nThis Mutual Confidentiality Agreement (“Agreement”) is effective as of February 10, 2017 (“Effective Date”), between Kite Pharma,\\\\nInc., a Delaware corporation having a place of business at 2225 Colorado Avenue, Santa Monica, CA 90404 (“Kite”) and Gilead Sciences, Inc.,\\\\na Delaware corporation having a place of business at 333 Lakeside Drive, Foster City, CA 94404 (“Company”). Kite and Company may be\\\\nreferred to herein individually as a “Party” and collectively as the “Parties.”\\\\nThe Parties desire to exchange Confidential Information (as defined below) for the Purpose (as defined below) and desire that their\\\\nrespective Confidential Information be maintained in accordance with this Agreement. Therefore, the Parties agree as follows:\\\\n1. Definitions.\\\\n1.1\\\\n“Affiliate” means, with respect to a Party, any person, corporation or other entity that directly or indirectly controls, is controlled by,\\\\nor is under common control with such Party. For purposes of this definition, “control” means possession of the power to direct the\\\\nmanagement of such entity or person, whether through ownership of more than fifty percent (50%) of voting securities, by contract or\\\\notherwise.\\\\n1.2\\\\n“Confidential Information” means any and all information and/or data disclosed to the Receiving Party (as defined below) by the\\\\nDisclosing Party (as defined below) under this Agreement, and may include, without limitation, know-how, data, designs, plans,\\\\nspecifications, protocols, documents, trade secrets, ideas, concepts, products, processes, prototypes, formulas, works-in-progress,\\\\nsystems, technologies, manufacturing or marketing techniques, business or financial information; provided, however, that\\\\nConfidential Information shall not include, and neither party shall disclose to the other party, any non-publicly disclosed chemical\\\\nstructures of its compounds or sequence information, including amino acid and nucleic acid sequences, of its proteins, molecules or\\\\nother proprietary substances, unless such disclosure is requested in advance in writing by the Receiving Party and thereafter later\\\\nagreed to in writing by both parties, in which case such disclosed chemical structures and/or sequence information (as specifically\\\\nindicated in any such subsequent writing) shall be deemed Confidential Information of the Disclosing Party under this Agreement.\\\\n1.3\\\\n“Disclosing Party” means the Party or its Representatives divulging Confidential Information to the Receiving Party (as defined\\\\nbelow).\\\\n1.4\\\\n“Purpose” means to discuss, evaluate, negotiate and possibly enter into a business transaction involving Kite (and/or any of its\\\\nAffiliates) and the Company (and/or any of its Affiliates).\\\\n1.5\\\\n“Receiving Party” means the Party or its Representatives receiving Confidential Information from the Disclosing Party.\\\\n1.6\\\\n“Representatives” means, with respect to a Party, such Party’s Affiliates and its (and its Affiliates’) respective officers (including\\\\ndirectors), trustees, employees, agents, professional advisors, non-employee staff and consultants, including legal and financial\\\\nadvisors.\\\\n2. Duties.\\\\n2.1 Restrictions on Use and Disclosure. Each Receiving Party agrees that it shall hold the Disclosing Party’s Confidential Information in\\\\nsecrecy and confidence and shall not disclose any of the Disclosing Party’s Confidential Information to a third party, other than the\\\\nReceiving Party’s Representatives as permitted by Section 2.2 below, nor use it for any purpose other than the Purpose, without the\\\\nexpress\\\\n1of5\\\\nConfidential\\\\nwritten consent of the Disclosing Party. Each Receiving Party agrees to use at least the same degree of care to prevent any\\\\nunauthorized access, disclosure or publication of the Confidential Information of the Disclosing Party as the Receiving Party uses to\\\\nprotect its own valuable Confidential Information but in no event less than a commercially reasonable degree of care.\\\\n2.2 Disclosures to Representatives. The Receiving Party shall only disclose such Confidential Information to those Representatives who\\\\nhave a need to know such Confidential Information for the Purpose. All Representatives to whom the Confidential Information is\\\\ndisclosed shall be subject to legally binding nondisclosure and nonuse restrictions that are at least as restrictive as the terms of this\\\\nAgreement. Each Party, as a Receiving Party hereto, shall be responsible for the acts and omissions of its respective Representatives\\\\nunder this Agreement as if such acts and omissions were performed (or not performed) by the Receiving Party. If an act or omission\\\\nof a Representative of a Receiving Party would, if committed by the Receiving Party, constitute a breach of this Agreement, such act\\\\nor omission shall constitute a breach of this Agreement by such Receiving Party.\\\\n2.3 Form of Information. Confidential Information may be disclosed orally, visually, or in a tangible or electronic written form.\\\\nConfidential Information may be disclosed directly or indirectly, by Disclosing Party or the Disclosing Party’s Representatives to the\\\\nReceiving Party or the Receiving Party’s Representatives.\\\\n2.4 Attorney-Client Privilege. Nothing in this Agreement obligates either Party to reveal material subject to the attorney-client privilege,\\\\nwork product doctrine or any other applicable privilege. However, to the extent that any Confidential Information may include\\\\nmaterial subject to the attorney-client privilege, work product doctrine or any other applicable privilege concerning pending or\\\\nthreatened legal proceedings or governmental investigations, the Parties understand and agree that they have a commonality of\\\\ninterest with respect to such matters and it is their desire, intention and mutual understanding that the sharing, whether inadvertent or\\\\nintentional, of such material is not intended to, and shall not, waive or diminish in any way the confidentiality of such material or its\\\\ncontinued protection under the attorney-client privilege, work product doctrine or other applicable privilege. All Confidential\\\\nInformation provided by either Party that is entitled to protection under the attorney-client privilege, work product doctrine or other\\\\napplicable privilege shall remain entitled to such protection under these privileges, this Agreement, and under the joint defense\\\\ndoctrine.\\\\n2.5 Other Information. Neither Company nor Kite shall, without the other party’s consent, disclose to any other person (except for\\\\nRepresentatives as permitted by Section 2.1 and 2.2 above) either the existence of this Agreement, the fact that investigations,\\\\ndiscussions or negotiations are or may be taking place concerning a possible transaction or any facts related thereto (“Other\\\\nInformation”).\\\\n3. Exceptions and Other Matters.\\\\n3.1 Exceptions. Notwithstanding anything to the contrary in this Agreement, Confidential Information does not include any information\\\\nthat:\\\\n(a) is known by the Receiving Party prior to the time of its receipt, such prior knowledge being documented by written evidence\\\\npredating the date that such information was disclosed hereunder;\\\\n(b) is at the time of disclosure or thereafter becomes published or otherwise part of the public domain without breach of this\\\\nAgreement by the Receiving Party;\\\\n(c) is disclosed to the Receiving Party by a third party who is not under an obligation to maintain the confidentiality of the\\\\ninformation; or\\\\n(d) is independently developed by the Receiving Party without any use of or reference to Confidential Information of the\\\\nDisclosing Party, such independent development being documented by contemporaneous written evidence.\\\\n2of5\\\\nConfidential\\\\n3.2 Partial Disclosures; Combinations. Specific aspects or details of Confidential Information shall not be deemed to be within the public\\\\ndomain or in the possession of a Receiving Party merely because the Confidential Information is embraced by more general\\\\ninformation in the public domain or in the possession of such party. Further, any combination of individual elements of Confidential\\\\nInformation shall be considered Confidential Information and shall not be considered in the public domain or in the possession of a\\\\nReceiving Party merely because one or more individual elements of such combination are in the public domain or in the possession of\\\\nsuch Party; rather such combination shall only be considered in the public domain or in the possession of a Receiving Party if the\\\\ncombination of each of the individual elements of the combination is in the public domain or in the possession of the Receiving Party.\\\\n3.3 Disclosure Required by Court Order or Government. Notwithstanding anything in this Agreement to the contrary, Receiving Party\\\\nmay disclose Confidential Information of the Disclosing Party and Other Information to the extent disclosure is required by\\\\napplicable law, rule, regulation, governmental or court order, pursuant to subpoena or other governmental authority, provided that the\\\\nReceiving Party shall promptly inform the Disclosing Party in writing of such disclosure requirement so that the Disclosing Party\\\\nmay seek a protective order or other appropriate remedy. The Receiving Party shall reasonably cooperate with Disclosing Party in\\\\nconnection with the Disclosing Party’s efforts to obtain any such order or other remedy. In the event that no such protective order or\\\\nother remedy is obtained, then the Receiving Party may furnish only that portion of the Confidential Information which the Receiving\\\\nParty is advised by counsel (including its internal legal counsel) that it is legally required to disclose.\\\\n3.4 No Representation or Warranty By Discloser. The Disclosing Party makes no express or implied representation or warranty as to the\\\\naccuracy, completeness or utility of its Confidential Information. THE RECEIVING PARTY ACKNOWLEDGES THAT THE\\\\nCONFIDENTIAL INFORMATION OF THE DISCLOSING PARTY IS PROVIDED “AS IS,” WITHOUT ANY WARRANTY,\\\\nEXPRESS OR IMPLIED.\\\\n3.5 No License Implied. This Agreement shall not be construed to grant to Receiving Party any license or other rights with respect to the\\\\nConfidential Information.\\\\n3.6 Ownership; Return/Destruction. All Confidential Information and all materials containing Confidential Information that are delivered\\\\nto the Receiving Party by the Disclosing Party or the Disclosing Party’s Representatives under this Agreement are and remain the\\\\nsole and exclusive property of the Disclosing Party. Upon written request of the Disclosing Party, the Receiving Party shall, at its own\\\\ncost and expense, promptly destroy or return to the Disclosing Party all such materials (if returned, in the medium provided by\\\\nDisclosing Party) and destroy all copies of the foregoing or any portion thereof; provided, however, that Receiving Party may retain\\\\none copy of the foregoing materials in a secure location for record-keeping purposes. Neither the Receiving Party nor any of its\\\\nRepresentatives shall be required to delete or destroy any electronic back-up tapes or other electronic back-up files that have been\\\\ncreated solely by their automatic or routine archiving and back-up procedures, to the extent created and retained in a manner\\\\nconsistent with its or their standard archiving and back-up procedures.\\\\n4. Term and Termination.\\\\n4.1 Term. The term of this Agreement during which Confidential Information may be disclosed by one Party to the other Party shall\\\\nbegin on the Effective Date and end five (5) years after the Effective Date, unless extended by mutual agreement.\\\\n4.2 Survival. The Receiving Party’s obligations with respect to Confidential Information under Section 2 shall survive termination or\\\\nexpiration of this Agreement, and shall expire seven (7) years from the Effective Date.\\\\n3of5\\\\nConfidential\\\\n5. Miscellaneous.\\\\n5.1 No Future Obligations. Nothing in this Agreement shall be deemed to create any obligation on the part of either Party to continue\\\\ndiscussions or to enter into a further agreement. Either party may terminate discussions or negotiations at any time\\\\n5.2 Assignment. Neither this Agreement nor the obligations hereunder may be assigned or otherwise transferred by a Party without\\\\nwritten consent of the other Party, except in connection with the sale of all or substantially all of a Party’s assets, equity or business or\\\\na merger, reorganization or consolidation involving at least fifty percent (50%) or more of the voting equity securities of the Party.\\\\nThis Agreement shall be binding upon the parties, their successors and their permitted assigns.\\\\n5.3 Applicable Law. This Agreement shall be governed by and construed in accordance with the laws of the State of California without\\\\nreference to its rules of conflicts of laws.\\\\n5.4 Transfer Restrictions Under Export Control Laws. Each Party agrees that it and its Representatives shall comply with any applicable\\\\nexport control laws, rules and regulations relating to the export of technical information, materials or products in connection with any\\\\ndisclosure of Confidential Information under this Agreement.\\\\n5.5 Notices. Each notice required or permitted hereunder shall be in writing and sufficient if delivered personally, sent by a nationally-\\\\nrecognized overnight courier or sent by registered or certified mail, postage prepaid, return receipt requested, to the Parties at the\\\\naddresses indicated in the introductory paragraph of this Agreement, to the attention of the signatories below, with a copy, in the case\\\\nof Company, to the General Counsel. Either Party may change its address by giving the other Party written notice, delivered in\\\\naccordance with this Section 5.5 .\\\\n5.6 Waivers and Amendments; Preservation of Remedies. This Agreement may be amended, or the terms and conditions may be waived,\\\\nonly by a written agreement signed by both Parties. No delay on the part of any Party in exercising any right hereunder shall operate\\\\nas a waiver, nor shall any partial exercise of any right hereunder preclude any other exercise thereof. The rights and remedies herein\\\\nare cumulative and are not exclusive of any rights or remedies which any Party may otherwise have at law or in equity.\\\\n5.7 Injunctive Relief. The Parties acknowledge that a breach of this Agreement may result in irreparable harm and damages to a Party in\\\\nan amount difficult to ascertain and which cannot be adequately compensated by a monetary award. Accordingly, in addition to any\\\\nof the relief to which any Party may be entitled under this Agreement, at law or in equity, such Party shall be entitled to seek\\\\ntemporary and permanent injunctive relief from any breach or threatened breach without the requirement of the Party bringing such\\\\naction to post any bond or other security with the court in connection therewith.\\\\n5.8 Entire Agreement; Severability. This Agreement constitutes the entire understanding of the Parties with respect to the subject matter\\\\nhereof and any express or implied agreements, either oral or written, are superseded by the terms of this Agreement. If any one or\\\\nmore provisions of this Agreement is held invalid, illegal or unenforceable in any respect by a court having competent jurisdiction,\\\\nthe validity, legality and enforceability of this Agreement and the remaining provisions contained herein shall not in any way be\\\\naffected or impaired thereby.\\\\n5.9 Counterparts. This Agreement may be executed in counterparts, each of which shall be an original as against either Party whose\\\\nsignature appears thereon, but all of which taken together shall constitute but one and the same instrument. An executed facsimile or\\\\nelectronic scanned copy of this Agreement shall have the same force and effect as an original.\\\\n4of5\\\\nConfidential\\\\nKITE PHARMA, INC.\\\\nGILEAD SCIENCES, INC.\\\\nBy: /s/ Veer Bhavnagri\\\\nBy: /s/ Elizabeth P. Bhatt\\\\nName: Veer Bhavnagri\\\\nName: Elizabeth Bhatt\\\\nTitle: VP Corporate Counsel\\\\nTitle: Vice President, Corporate Development\\\\nDate: February 10, 2017\\\\nDate: February 15, 2017\\\\n5of5', answer=\"{'effective_date': '2017-02-10', 'jurisdiction': 'California', 'party': ['Kite_Pharma_Inc.', 'Gilead_Sciences_Inc.'], 'term': '7_years'}\", prompt='')"
      ]
     },
     "execution_count": 20,
     "metadata": {},
     "output_type": "execute_result"
    }
   ],
   "source": [
    "data[1]"
   ]
  },
  {
   "cell_type": "code",
   "execution_count": null,
   "id": "6d3e25c2-4fba-4be0-bfb5-de7ab1294668",
   "metadata": {},
   "outputs": [],
   "source": []
  }
 ],
 "metadata": {
  "kernelspec": {
   "display_name": "Python 3 (ipykernel)",
   "language": "python",
   "name": "python3"
  },
  "language_info": {
   "codemirror_mode": {
    "name": "ipython",
    "version": 3
   },
   "file_extension": ".py",
   "mimetype": "text/x-python",
   "name": "python",
   "nbconvert_exporter": "python",
   "pygments_lexer": "ipython3",
   "version": "3.11.7"
  }
 },
 "nbformat": 4,
 "nbformat_minor": 5
}
